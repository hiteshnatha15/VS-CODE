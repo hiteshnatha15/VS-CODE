{
 "cells": [
  {
   "cell_type": "markdown",
   "id": "ba6774fa-ce6f-4f66-abb7-c7df95f0cf2f",
   "metadata": {},
   "source": [
    "file handling is a process to handle any text file using programming language. the ffile handling is measurly cunsults about the following--\n",
    "1. creation of a file\n",
    "2. open/close a file\n",
    "3. process a file\n",
    "\n",
    "the file processing includes read, write and append operations.\n",
    "    python can work with two types of files - \n",
    "    1. text file\n",
    "    2. binary file\n",
    "1. text file:- a file whose contains can be visible using a text editor is cnsidared as text file. A text file is simple a sequence of unicode characters.\n",
    "2. Binary Files:- a binary files stores the data other than the text format, for example - image file, audio files, .exe files\n",
    "\n",
    "**difference between text file and binary file:---**\n",
    "text file : \n",
    "1. The bits of text file represents any character.\n",
    "2. The text file can easily get currepted.\n",
    "3. It can store plain text in a file.\n",
    "4. The file is easily operated with the help of text editor.\n",
    "\n",
    "binary file:--\n",
    "1. the ita of binary files represents custom data.\n",
    "2. these files get currepted if there is a change in any bit present in the file.\n",
    "3. It can store other types of data like audio, video, executable data in binary file.\n",
    "4. These files works with some applications and they executes with that application only."
   ]
  },
  {
   "cell_type": "markdown",
   "id": "0dbc6dec-4b3a-4050-97a5-c14999b35c58",
   "metadata": {},
   "source": [
    "Before applying any process to a file, it always required to create and open it.\n",
    "Python provides open() function that performs the work of creation as well as opening the file. This is one of the measure function for file handling.\n",
    "    To create an obect of a open class we can make use of class and object concept for this. The open function takes 3 arguments while the creation of object is done.\n",
    "1. File_name:- It contains the name of file that we have to create or open. The file name must be enclosed in double quotation.\n",
    "   eg: x = open(\"file1.txt\")\n",
    "2. Access Mode:- The second argument is the access mode. it determines what operation we have to perform on the file. for exampe - read or write\n",
    "3. Buffring:-  it is the optional argument that dispays the buffer setting for the file. buffer is the temporary line size of a file. If we don't want     to set any temporary size for the file than the value must be ZERO. For a normal text file size the buffer valeue must be ONE. For any other size we    can mention that number as the argument 3."
   ]
  },
  {
   "cell_type": "code",
   "execution_count": 7,
   "id": "95791f1d-99b2-465f-ad01-5fbd1a7ee3fd",
   "metadata": {},
   "outputs": [
    {
     "name": "stdout",
     "output_type": "stream",
     "text": [
      "False\n",
      "utf-8\n",
      "a+\n",
      "None\n",
      "1.txt\n",
      "True\n"
     ]
    }
   ],
   "source": [
    "f = open(\"1.txt\",'a+')\n",
    "print(f.closed)\n",
    "print(f.encoding)\n",
    "print(f.mode)\n",
    "print(f.newlines)\n",
    "print(f.name)\n",
    "print(f.readable())"
   ]
  },
  {
   "cell_type": "markdown",
   "id": "41b19a9f-b1da-4dab-a810-5acfa72628a5",
   "metadata": {},
   "source": [
    "**Various file modes**\n",
    "1. r - reading only. sets file pointer at begining of the file\n",
    "2. rb - same as r mode but with the binary file.\n",
    "3. r+: Open a file for both reading and writing.\n",
    "4. rb+: Open a file for both reading and writing in binary mode.\n",
    "5. w: Open a file for writing (truncates the file if it exists).\n",
    "6. wb: Open a file for writing in binary mode (truncates the file if it exists).\n",
    "7. w+: Open a file for both writing and reading (truncates the file if it exists).\n",
    "8. wb+: Open a file for both writing and reading in binary mode (truncates the file if it exists).\n",
    "9. a: Open a file for appending (creates the file if it doesn't exist).\n",
    "10. ab: Open a file for appending in binary mode (creates the file if it doesn't exist).\n",
    "11. a+: Open a file for both appending and reading (creates the file if it doesn't exist).\n",
    "12. ab+: Open a file for both appending and reading in binary mode (creates the file if it doesn't exist).\n",
    "\n",
    "Close() method:\n",
    "i tis used ot close a file. after using this method opened file will be closed and closed file will not be read or written any more.\n",
    "eg program:\n",
    "f = open(\"a.txt\",'a+')\n",
    "print(f.closed)\n",
    "print(\"name of the file is\", f.name)\n",
    "f.close()\n",
    "print(f.closed)\n",
    "\n",
    "\n",
    "\n",
    "\n",
    "\n",
    " "
   ]
  },
  {
   "cell_type": "code",
   "execution_count": 8,
   "id": "dbab54df-2c25-4dd1-a823-64279185e783",
   "metadata": {},
   "outputs": [
    {
     "name": "stdout",
     "output_type": "stream",
     "text": [
      "False\n",
      "name of the file is a.txt\n",
      "True\n"
     ]
    }
   ],
   "source": [
    "f = open(\"a.txt\",'a+')\n",
    "print(f.closed)\n",
    "print(\"name of the file is\", f.name)\n",
    "f.close()\n",
    "print(f.closed)\n"
   ]
  },
  {
   "cell_type": "code",
   "execution_count": 10,
   "id": "957079d1-e7f0-4507-8a5b-ea35678e2a70",
   "metadata": {},
   "outputs": [
    {
     "name": "stdout",
     "output_type": "stream",
     "text": [
      "False\n",
      "True\n",
      "False\n",
      "\n",
      "True\n"
     ]
    }
   ],
   "source": [
    "# write a proram to create a file that can write your name and registration number. \n",
    "# close that file and then after reopen it to append the name of various courses thet you are learning now. \n",
    "# that after close the file and check the status whether the file is open or closed.\n",
    "f = open(\"name.txt\",'w+')\n",
    "f.write(\"Name - ashwini bhardwaj\")\n",
    "print(f.closed)\n",
    "f.close()\n",
    "print(f.closed)\n",
    "f = open(\"name.txt\", 'a+')\n",
    "f.write(\"\\ncourses: \\njava, \\npython , \\nc/c++\")\n",
    "print(f.closed)\n",
    "data = f.read()\n",
    "print(data)\n",
    "f.close()\n",
    "print(f.closed)"
   ]
  },
  {
   "cell_type": "markdown",
   "id": "5880ba39-d98c-4362-9c84-15f8066951cd",
   "metadata": {},
   "source": [
    "readline():- The function reads total number of characters starting from the starting till end of the line."
   ]
  },
  {
   "cell_type": "code",
   "execution_count": 11,
   "id": "48d33340-bdd3-4168-947d-5899996dea40",
   "metadata": {},
   "outputs": [
    {
     "name": "stdout",
     "output_type": "stream",
     "text": [
      "False\n",
      "True\n",
      "False\n",
      "\n",
      "True\n",
      "Name - ashwini bhardwaj\n",
      "\n"
     ]
    }
   ],
   "source": [
    "f = open(\"name.txt\",'w+')\n",
    "f.write(\"Name - ashwini bhardwaj\")\n",
    "print(f.closed)\n",
    "f.close()\n",
    "print(f.closed)\n",
    "f = open(\"name.txt\", 'a+')\n",
    "f.write(\"\\ncourses: \\njava, \\npython , \\nc/c++\")\n",
    "print(f.closed)\n",
    "data = f.read()\n",
    "print(data)\n",
    "f.close()\n",
    "print(f.closed)\n",
    "f = open(\"name.txt\",'r')\n",
    "data = f.readline()\n",
    "print(data)"
   ]
  },
  {
   "cell_type": "code",
   "execution_count": 3,
   "id": "b47d1854-1879-45fe-9ad8-c3fd16960ba0",
   "metadata": {},
   "outputs": [
    {
     "name": "stdout",
     "output_type": "stream",
     "text": [
      "Name - ashwini bhardwaj\n",
      "\n",
      "courses: \n",
      "\n",
      "java\n",
      " \n",
      "\n",
      "python \n",
      " \n",
      "\n",
      "c/c++\n"
     ]
    }
   ],
   "source": [
    "f = open(\"name.txt\",'r')\n",
    "for text in f.readlines():\n",
    "    for word in text.split(\",\"):\n",
    "        print(word)\n",
    "f.close()\n",
    "        "
   ]
  },
  {
   "cell_type": "markdown",
   "id": "be1f9b56-b42e-4df1-af61-04a6f33b30be",
   "metadata": {},
   "source": [
    "**Reseting the file position:**\n",
    "1. **tell():** Returns the current position of the file pointer.\n",
    "2. **seek(offset, from):** Moves the file pointer to a specified location, where offset is the number of bytes to move, and from specifies the               reference position (0 for beginning, 1 for current, 2 for end)."
   ]
  },
  {
   "cell_type": "code",
   "execution_count": 6,
   "id": "643d6320-835d-4765-8e34-5e6872cb7e74",
   "metadata": {},
   "outputs": [
    {
     "name": "stdout",
     "output_type": "stream",
     "text": [
      "0\n",
      "b'Name - '\n"
     ]
    }
   ],
   "source": [
    "f = open(\"name.txt\",'rb+')\n",
    "print(f.tell())\n",
    "print(f.read(7))\n",
    "\n"
   ]
  }
 ],
 "metadata": {
  "kernelspec": {
   "display_name": "Python 3 (ipykernel)",
   "language": "python",
   "name": "python3"
  },
  "language_info": {
   "codemirror_mode": {
    "name": "ipython",
    "version": 3
   },
   "file_extension": ".py",
   "mimetype": "text/x-python",
   "name": "python",
   "nbconvert_exporter": "python",
   "pygments_lexer": "ipython3",
   "version": "3.12.3"
  }
 },
 "nbformat": 4,
 "nbformat_minor": 5
}
